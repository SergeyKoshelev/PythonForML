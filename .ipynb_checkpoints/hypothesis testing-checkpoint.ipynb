{
 "cells": [
  {
   "cell_type": "code",
   "execution_count": 1,
   "id": "mighty-polyester",
   "metadata": {},
   "outputs": [],
   "source": [
    "import numpy as np\n",
    "from scipy import stats\n",
    "import matplotlib.pyplot as plt\n",
    "import pandas as pd\n",
    "%matplotlib inline"
   ]
  },
  {
   "cell_type": "code",
   "execution_count": 2,
   "id": "mighty-transaction",
   "metadata": {},
   "outputs": [],
   "source": [
    "#taxi_bog = pd.read_csv('...')\n",
    "#taxi_mex = pd.read_csv('...')"
   ]
  },
  {
   "cell_type": "code",
   "execution_count": 3,
   "id": "foster-estimate",
   "metadata": {},
   "outputs": [],
   "source": [
    "#sample = taxi_mex['wait_sec'].sample(n=3000)/60\n",
    "#stats.ttest_1samp(sample, 10) #получаем pvalue малое (5%) - отвергаем нулевую гипотезу"
   ]
  },
  {
   "cell_type": "code",
   "execution_count": 4,
   "id": "surface-friendship",
   "metadata": {},
   "outputs": [],
   "source": [
    "#stats.ttest_ind(taxi_mex['tripduration'].sample(n=3000), taxi_bog('tripduration').sample(n=3000)) #по двум статистикам\n",
    "#p-value ~10^-7, поэтому снова отвергаем нулевую гипотезу"
   ]
  },
  {
   "cell_type": "code",
   "execution_count": 5,
   "id": "fleet-implement",
   "metadata": {},
   "outputs": [],
   "source": [
    "#stats.ttest_ind(taxi_mex['wait sec'].sample(n=3000), taxi_bog('wait sec').sample(n=3000)) #по двум статистикам\n",
    "#p-value ~0,6 поэтому гипотеза подтверждена(время поездок связаны)"
   ]
  },
  {
   "cell_type": "code",
   "execution_count": null,
   "id": "medical-universal",
   "metadata": {},
   "outputs": [],
   "source": [
    "#control = taxi_mex[taxi_mex.month == 'November']['tripduration'].sample(n=1000)\n",
    "#treatment = taxi_mex[taxi_mex.month == 'December']['tripduration'].sample(n=1000)\n",
    "#stats.ttest_rel(control, treatment)\n",
    "#p-value ~0,3, гипотеза верна(близкие месяцы)"
   ]
  }
 ],
 "metadata": {
  "kernelspec": {
   "display_name": "Python 3",
   "language": "python",
   "name": "python3"
  },
  "language_info": {
   "codemirror_mode": {
    "name": "ipython",
    "version": 3
   },
   "file_extension": ".py",
   "mimetype": "text/x-python",
   "name": "python",
   "nbconvert_exporter": "python",
   "pygments_lexer": "ipython3",
   "version": "3.9.1"
  }
 },
 "nbformat": 4,
 "nbformat_minor": 5
}
