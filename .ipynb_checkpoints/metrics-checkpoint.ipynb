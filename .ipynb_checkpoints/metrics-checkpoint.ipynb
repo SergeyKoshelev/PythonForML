{
 "cells": [
  {
   "cell_type": "code",
   "execution_count": 4,
   "id": "judicial-preserve",
   "metadata": {},
   "outputs": [
    {
     "name": "stdout",
     "output_type": "stream",
     "text": [
      "Accuracy: 0.95\n"
     ]
    },
    {
     "name": "stderr",
     "output_type": "stream",
     "text": [
      "c:\\users\\sergey\\documents\\reposes\\py_ad\\env\\lib\\site-packages\\sklearn\\linear_model\\_logistic.py:763: ConvergenceWarning: lbfgs failed to converge (status=1):\n",
      "STOP: TOTAL NO. of ITERATIONS REACHED LIMIT.\n",
      "\n",
      "Increase the number of iterations (max_iter) or scale the data as shown in:\n",
      "    https://scikit-learn.org/stable/modules/preprocessing.html\n",
      "Please also refer to the documentation for alternative solver options:\n",
      "    https://scikit-learn.org/stable/modules/linear_model.html#logistic-regression\n",
      "  n_iter_i = _check_optimize_result(\n"
     ]
    }
   ],
   "source": [
    "from sklearn import datasets\n",
    "from sklearn import metrics\n",
    "from sklearn.linear_model import LogisticRegression\n",
    "\n",
    "cancer = datasets.load_breast_cancer()\n",
    "logistic_regression = LogisticRegression()\n",
    "model = logistic_regression.fit(cancer.data, cancer.target)\n",
    "print(\"Accuracy: {:.2f}\".format(model.score(cancer.data, cancer.target))) #точность модели линейной регрессии"
   ]
  },
  {
   "cell_type": "code",
   "execution_count": 5,
   "id": "acknowledged-prefix",
   "metadata": {},
   "outputs": [
    {
     "name": "stdout",
     "output_type": "stream",
     "text": [
      "Accuracy: 0.95\n",
      "ROC AUC: 0.94\n",
      "F1: 0.96\n"
     ]
    }
   ],
   "source": [
    "predictions = model.predict(cancer.data)\n",
    "print('Accuracy: {:0.2f}'.format(metrics.accuracy_score(cancer.target, predictions))) #различные метрики\n",
    "print('ROC AUC: {:0.2f}'.format(metrics.roc_auc_score(cancer.target, predictions)))\n",
    "print('F1: {:0.2f}'.format(metrics.f1_score(cancer.target, predictions)))"
   ]
  },
  {
   "cell_type": "code",
   "execution_count": 2,
   "id": "nervous-score",
   "metadata": {},
   "outputs": [],
   "source": [
    "from sklearn.model_selection import train_test_split"
   ]
  },
  {
   "cell_type": "code",
   "execution_count": 8,
   "id": "systematic-millennium",
   "metadata": {},
   "outputs": [
    {
     "name": "stdout",
     "output_type": "stream",
     "text": [
      "Train accuracy: 0.95\n",
      "Test accuracy: 0.93\n"
     ]
    },
    {
     "name": "stderr",
     "output_type": "stream",
     "text": [
      "c:\\users\\sergey\\documents\\reposes\\py_ad\\env\\lib\\site-packages\\sklearn\\linear_model\\_logistic.py:763: ConvergenceWarning: lbfgs failed to converge (status=1):\n",
      "STOP: TOTAL NO. of ITERATIONS REACHED LIMIT.\n",
      "\n",
      "Increase the number of iterations (max_iter) or scale the data as shown in:\n",
      "    https://scikit-learn.org/stable/modules/preprocessing.html\n",
      "Please also refer to the documentation for alternative solver options:\n",
      "    https://scikit-learn.org/stable/modules/linear_model.html#logistic-regression\n",
      "  n_iter_i = _check_optimize_result(\n"
     ]
    }
   ],
   "source": [
    "x_train, x_test, y_train, y_test = train_test_split(  #разделение на тренировочную и тестовую выборки\n",
    "    cancer.data, cancer.target,\n",
    "    test_size = 0.2, random_state=12\n",
    ")\n",
    "model = logistic_regression.fit(x_train, y_train)\n",
    "\n",
    "print('Train accuracy: {:.2f}'.format(model.score(x_train, y_train))) #точность модели на тренировочных данных\n",
    "print('Test accuracy: {:.2f}'.format(model.score(x_test, y_test)))    #точность модели на тестовых данных"
   ]
  },
  {
   "cell_type": "code",
   "execution_count": 17,
   "id": "electrical-opposition",
   "metadata": {},
   "outputs": [
    {
     "name": "stdout",
     "output_type": "stream",
     "text": [
      "<class 'sklearn.linear_model._coordinate_descent.Lasso'>\n",
      "MSE: 48.52\n",
      "\n",
      "<class 'sklearn.linear_model._ridge.Ridge'>\n",
      "MSE: 29.78\n",
      "\n",
      "<class 'sklearn.linear_model._coordinate_descent.ElasticNet'>\n",
      "MSE: 17.35\n",
      "\n"
     ]
    }
   ],
   "source": [
    "from sklearn.linear_model import Lasso, Ridge, ElasticNet\n",
    "\n",
    "boston = datasets.load_boston()\n",
    "lasso = Lasso()\n",
    "ridge = Ridge()\n",
    "elastic = ElasticNet()   #линейные регрессии различными видами регуляризации\n",
    "\n",
    "for model in [lasso, ridge, elastic] : #сравниваем различные виды регрессии\n",
    "    x_train, x_test, y_train, y_test = train_test_split(  #разделение на тренировочную и тестовую выборки\n",
    "        boston.data, boston.target,\n",
    "        test_size = 0.2\n",
    "    )\n",
    "    model.fit(x_train, y_train)\n",
    "    predictions = model.predict(x_test)\n",
    "    print(model.__class__)\n",
    "    print('MSE: {:.2f}\\n'.format(metrics.mean_squared_error(y_test, predictions))) #среднеквадратичная ошибка"
   ]
  },
  {
   "cell_type": "code",
   "execution_count": 19,
   "id": "rising-building",
   "metadata": {},
   "outputs": [
    {
     "name": "stdout",
     "output_type": "stream",
     "text": [
      "R2: 0.71\n",
      "R2: 0.71\n"
     ]
    }
   ],
   "source": [
    "print('R2: {:.2f}'.format(model.score(x_test, y_test)))\n",
    "print('R2: {:.2f}'.format(metrics.r2_score(y_test, predictions))) #коэффициент детерминации, по умолчанию у модели \n",
    "                                                                  #в качестве score стоит именно он"
   ]
  },
  {
   "cell_type": "code",
   "execution_count": 23,
   "id": "finnish-reference",
   "metadata": {},
   "outputs": [
    {
     "data": {
      "text/plain": [
       "dict_keys(['data', 'target', 'frame', 'target_names', 'DESCR', 'feature_names', 'filename'])"
      ]
     },
     "execution_count": 23,
     "metadata": {},
     "output_type": "execute_result"
    }
   ],
   "source": [
    "from sklearn.model_selection import KFold, cross_val_score\n",
    "\n",
    "iris = datasets.load_iris() #датасет про цветы, 4 признака цветков, предсказать 3 разных класса ириса\n",
    "iris.keys()"
   ]
  },
  {
   "cell_type": "code",
   "execution_count": 25,
   "id": "institutional-kitty",
   "metadata": {},
   "outputs": [
    {
     "name": "stdout",
     "output_type": "stream",
     "text": [
      ".. _iris_dataset:\n",
      "\n",
      "Iris plants dataset\n",
      "--------------------\n",
      "\n",
      "**Data Set Characteristics:**\n",
      "\n",
      "    :Number of Instances: 150 (50 in each of three classes)\n",
      "    :Number of Attributes: 4 numeric, predictive attributes and the class\n",
      "    :Attribute Information:\n",
      "        - sepal length in cm\n",
      "        - sepal width in cm\n",
      "        - petal length in cm\n",
      "        - petal width in cm\n",
      "        - class:\n",
      "                - Iris-Setosa\n",
      "                - Iris-Versicolour\n",
      "                - Iris-Vi\n"
     ]
    }
   ],
   "source": [
    "print(iris.DESCR[:475])"
   ]
  },
  {
   "cell_type": "code",
   "execution_count": 33,
   "id": "thorough-nirvana",
   "metadata": {},
   "outputs": [],
   "source": [
    "logistic_regression = LogisticRegression()  #класс кросс-валидации\n",
    "cv = KFold(n_splits=5) #5 блоков\n",
    "\n",
    "for split_idx, (train_idx, test_idx) in enumerate(cv.split(iris.data)) : #итерирование по кросс-валидации\n",
    "    x_train, x_test = iris.data[train_idx], iris.data[test_idx]\n",
    "    y_train, y_test = iris.target[train_idx], iris.target[test_idx]\n",
    "    \n",
    "    logistic_regression.fit(x_train, y_train)\n",
    "    score = logistic_regression.score(x_test, y_test)\n",
    "    print('Split {} Score: {:.2f}'.format(split_idx, score))"
   ]
  },
  {
   "cell_type": "code",
   "execution_count": 34,
   "id": "sixth-manor",
   "metadata": {},
   "outputs": [
    {
     "name": "stdout",
     "output_type": "stream",
     "text": [
      "Cross val score: [1.         1.         0.86666667 0.93333333 0.83333333]\n",
      "Mean cross val score: 0.93\n"
     ]
    }
   ],
   "source": [
    "cv_score = cross_val_score(\n",
    "    logistic_regression, iris.data, iris.target,\n",
    "    scoring = 'accuracy', cv=cv\n",
    ")\n",
    "print('Cross val score: {}'.format(cv_score))\n",
    "print('Mean cross val score: {:.2f}'.format(cv_score.mean()))   #та же кросс-валидация, только на готовой функции"
   ]
  }
 ],
 "metadata": {
  "kernelspec": {
   "display_name": "Python 3",
   "language": "python",
   "name": "python3"
  },
  "language_info": {
   "codemirror_mode": {
    "name": "ipython",
    "version": 3
   },
   "file_extension": ".py",
   "mimetype": "text/x-python",
   "name": "python",
   "nbconvert_exporter": "python",
   "pygments_lexer": "ipython3",
   "version": "3.9.1"
  }
 },
 "nbformat": 4,
 "nbformat_minor": 5
}
