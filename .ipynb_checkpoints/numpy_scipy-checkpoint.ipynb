{
 "cells": [
  {
   "cell_type": "code",
   "execution_count": 9,
   "id": "numerical-helmet",
   "metadata": {},
   "outputs": [
    {
     "data": {
      "text/plain": [
       "array([1, 3, 4, 7])"
      ]
     },
     "execution_count": 9,
     "metadata": {},
     "output_type": "execute_result"
    }
   ],
   "source": [
    "import numpy as np\n",
    "\n",
    "a = np.array([[3, 3, 3], [1, 3, 4], [7, 1, 3]])\n",
    "np.unique(a)"
   ]
  },
  {
   "cell_type": "code",
   "execution_count": 13,
   "id": "equal-probe",
   "metadata": {},
   "outputs": [
    {
     "data": {
      "text/plain": [
       "13"
      ]
     },
     "execution_count": 13,
     "metadata": {},
     "output_type": "execute_result"
    }
   ],
   "source": [
    "z = np.array([92, 13, 44, 555, 1, -3])\n",
    "z[::-1][4]"
   ]
  },
  {
   "cell_type": "code",
   "execution_count": 21,
   "id": "average-kitchen",
   "metadata": {},
   "outputs": [
    {
     "data": {
      "text/plain": [
       "10"
      ]
     },
     "execution_count": 21,
     "metadata": {},
     "output_type": "execute_result"
    }
   ],
   "source": [
    "b = np.full(shape = (5), fill_value = 1)\n",
    "c = b * 2\n",
    "np.dot(c, b)"
   ]
  },
  {
   "cell_type": "code",
   "execution_count": 37,
   "id": "reported-vegetarian",
   "metadata": {},
   "outputs": [
    {
     "data": {
      "text/plain": [
       "array([[47, 37, 50, 13],\n",
       "       [32, 45, 58, 13],\n",
       "       [41, 25, 29,  4]])"
      ]
     },
     "execution_count": 37,
     "metadata": {},
     "output_type": "execute_result"
    }
   ],
   "source": [
    "d = np.array([[0, 9, 19, 13], [1, 20, 5, 13], [12, 11, 3, 4]])\n",
    "e = np.array([[2, 0, 0 , 0], [1, 2, 2, 0], [2, 1, 1, 0], [0, 0, 1, 1]])\n",
    "np.dot(d, e)"
   ]
  },
  {
   "cell_type": "code",
   "execution_count": 27,
   "id": "antique-fleece",
   "metadata": {},
   "outputs": [
    {
     "data": {
      "text/plain": [
       "4.875"
      ]
     },
     "execution_count": 27,
     "metadata": {},
     "output_type": "execute_result"
    }
   ],
   "source": [
    "f = np.array([[-1, 33, 4, 1], [0, 1, 1, 0]])\n",
    "f.mean()"
   ]
  },
  {
   "cell_type": "code",
   "execution_count": 28,
   "id": "nuclear-carolina",
   "metadata": {},
   "outputs": [
    {
     "data": {
      "text/plain": [
       "0.0"
      ]
     },
     "execution_count": 28,
     "metadata": {},
     "output_type": "execute_result"
    }
   ],
   "source": [
    "from scipy import linalg\n",
    "\n",
    "g = np.array([[6, 0, 3], [0, -1, 2], [12, 3, 0]])\n",
    "linalg.det(g)"
   ]
  },
  {
   "cell_type": "code",
   "execution_count": 29,
   "id": "prescribed-kingdom",
   "metadata": {},
   "outputs": [
    {
     "data": {
      "text/plain": [
       "array([-1.+0.j,  1.+0.j,  3.+0.j,  3.+0.j])"
      ]
     },
     "execution_count": 29,
     "metadata": {},
     "output_type": "execute_result"
    }
   ],
   "source": [
    "h = np.array([[1, -1, -1, 0], [-1, 2, -1, -1], [-1, -1, 2, -1], [0, -1, -1, 1]])\n",
    "values, vectors = linalg.eig(h)\n",
    "values"
   ]
  },
  {
   "cell_type": "code",
   "execution_count": 34,
   "id": "speaking-perfume",
   "metadata": {},
   "outputs": [
    {
     "data": {
      "text/plain": [
       "2.700000000000001"
      ]
     },
     "execution_count": 34,
     "metadata": {},
     "output_type": "execute_result"
    }
   ],
   "source": [
    "i = np.array([[2, 4, 0, 4, 1],\n",
    "             [2, 4, 1, 1, 0],\n",
    "             [1, 1, 1, 2, 2],\n",
    "             [0, 1, 3, 2, 4],\n",
    "             [2, 2, 2, 0, 2]])\n",
    "np.trace(linalg.inv(i))"
   ]
  }
 ],
 "metadata": {
  "kernelspec": {
   "display_name": "Python 3",
   "language": "python",
   "name": "python3"
  },
  "language_info": {
   "codemirror_mode": {
    "name": "ipython",
    "version": 3
   },
   "file_extension": ".py",
   "mimetype": "text/x-python",
   "name": "python",
   "nbconvert_exporter": "python",
   "pygments_lexer": "ipython3",
   "version": "3.9.1"
  }
 },
 "nbformat": 4,
 "nbformat_minor": 5
}
