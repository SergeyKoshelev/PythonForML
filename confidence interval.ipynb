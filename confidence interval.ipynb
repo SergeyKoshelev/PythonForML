{
 "cells": [
  {
   "cell_type": "code",
   "execution_count": 1,
   "id": "nervous-islam",
   "metadata": {},
   "outputs": [],
   "source": [
    "import numpy as np\n",
    "from scipy import stats\n",
    "import matplotlib.pyplot as plt\n",
    "%matplotlib inline"
   ]
  },
  {
   "cell_type": "code",
   "execution_count": 12,
   "id": "criminal-mining",
   "metadata": {},
   "outputs": [
    {
     "name": "stdout",
     "output_type": "stream",
     "text": [
      "1.959963984540054\n"
     ]
    }
   ],
   "source": [
    "population = stats.norm.rvs(loc = 2, scale = 5, size = 1000000)\n",
    "sample_size = 100\n",
    "sample = np.random.choice(a = population, size = sample_size) #sample из распределения population\n",
    "sample_mean = sample.mean() #среднее\n",
    "st_dev = population.std() #дисперсия\n",
    "z_value = stats.norm.ppf(q = 0.975) #вычисление z-value по проценту q\n",
    "print(z_value)"
   ]
  },
  {
   "cell_type": "code",
   "execution_count": 13,
   "id": "chubby-allen",
   "metadata": {},
   "outputs": [
    {
     "data": {
      "text/plain": [
       "-1.9599639845400545"
      ]
     },
     "execution_count": 13,
     "metadata": {},
     "output_type": "execute_result"
    }
   ],
   "source": [
    "stats.norm.ppf(q = 0.025)"
   ]
  },
  {
   "cell_type": "code",
   "execution_count": 15,
   "id": "classical-macedonia",
   "metadata": {},
   "outputs": [
    {
     "name": "stdout",
     "output_type": "stream",
     "text": [
      "(0.560534061615228, 2.522367501477656)\n"
     ]
    }
   ],
   "source": [
    "interval = z_value * (st_dev/np.sqrt(sample_size))\n",
    "conf_inv = (sample_mean - interval, sample_mean + interval)\n",
    "print(conf_inv)"
   ]
  },
  {
   "cell_type": "code",
   "execution_count": 16,
   "id": "starting-gentleman",
   "metadata": {},
   "outputs": [],
   "source": [
    "def compute_ci(sample, st_dev) : #функция определения доверительного интервала по выборке\n",
    "    z_value = stats.norm.ppf(q = 0.975)\n",
    "    sample_size = len(sample)\n",
    "    interval = z_value * (st_dev/np.sqrt(sample_size))\n",
    "    conf_inv = (sample_mean - interval, sample_mean + interval)\n",
    "    return conf_inv"
   ]
  },
  {
   "cell_type": "code",
   "execution_count": 18,
   "id": "geological-elite",
   "metadata": {},
   "outputs": [
    {
     "name": "stdout",
     "output_type": "stream",
     "text": [
      "(1.3221111349432102, 1.7607904281496738)\n"
     ]
    }
   ],
   "source": [
    "np.random.seed(5)\n",
    "sample_size = 2000\n",
    "sample = np.random.choice(a = population, size = sample_size)\n",
    "ci = compute_ci (sample, st_dev)\n",
    "print(ci)"
   ]
  },
  {
   "cell_type": "code",
   "execution_count": 22,
   "id": "preliminary-surfing",
   "metadata": {},
   "outputs": [],
   "source": [
    "def compute_ci_t(sample, alpha = 0.95) : #функция определения доверительного интервала по выборке (распр Стьюдента)\n",
    "    n = sample.shape[0]\n",
    "    mu, se = np.mean(sample), stats.sem(sample)\n",
    "    bound = se*stats.t.ppf((1+alpha)/2., n - 1)\n",
    "    return mu - bound, mu + bound"
   ]
  },
  {
   "cell_type": "code",
   "execution_count": 1,
   "id": "noted-classroom",
   "metadata": {},
   "outputs": [
    {
     "ename": "NameError",
     "evalue": "name 'np' is not defined",
     "output_type": "error",
     "traceback": [
      "\u001b[1;31m---------------------------------------------------------------------------\u001b[0m",
      "\u001b[1;31mNameError\u001b[0m                                 Traceback (most recent call last)",
      "\u001b[1;32m<ipython-input-1-5ab22e759ead>\u001b[0m in \u001b[0;36m<module>\u001b[1;34m\u001b[0m\n\u001b[1;32m----> 1\u001b[1;33m \u001b[0msample\u001b[0m \u001b[1;33m=\u001b[0m \u001b[0mnp\u001b[0m\u001b[1;33m.\u001b[0m\u001b[0mrandom\u001b[0m\u001b[1;33m.\u001b[0m\u001b[0mchoice\u001b[0m\u001b[1;33m(\u001b[0m\u001b[0ma\u001b[0m \u001b[1;33m=\u001b[0m \u001b[0mpopulation\u001b[0m\u001b[1;33m,\u001b[0m \u001b[0msize\u001b[0m \u001b[1;33m=\u001b[0m \u001b[1;36m100\u001b[0m\u001b[1;33m)\u001b[0m\u001b[1;33m\u001b[0m\u001b[1;33m\u001b[0m\u001b[0m\n\u001b[0m\u001b[0;32m      2\u001b[0m \u001b[0mci_t\u001b[0m \u001b[1;33m=\u001b[0m \u001b[0mcompute_ci_t\u001b[0m \u001b[1;33m(\u001b[0m\u001b[0msample\u001b[0m\u001b[1;33m,\u001b[0m \u001b[0malpha\u001b[0m \u001b[1;33m=\u001b[0m \u001b[1;36m0.95\u001b[0m\u001b[1;33m)\u001b[0m\u001b[1;33m\u001b[0m\u001b[1;33m\u001b[0m\u001b[0m\n\u001b[0;32m      3\u001b[0m \u001b[0mprint\u001b[0m\u001b[1;33m(\u001b[0m\u001b[0mci_t\u001b[0m\u001b[1;33m)\u001b[0m\u001b[1;33m\u001b[0m\u001b[1;33m\u001b[0m\u001b[0m\n",
      "\u001b[1;31mNameError\u001b[0m: name 'np' is not defined"
     ]
    }
   ],
   "source": [
    "sample = np.random.choice(a = population, size = 100)\n",
    "ci_t = compute_ci_t (sample, alpha = 0.95)\n",
    "print(ci_t)"
   ]
  },
  {
   "cell_type": "code",
   "execution_count": 2,
   "id": "collective-birmingham",
   "metadata": {},
   "outputs": [],
   "source": [
    "def generate_distribution_sample(data, sample_size, dist_size) : #ЦПТ - распределение средних есть нормальное распределение\n",
    "    sample_means = []\n",
    "    for i in tqdm(range(dist_size)) :  #tqdm - шкала прохождения range в процентах\n",
    "        sample = np.random.choice(a = data, size = sample_size) #генерируем много(dist_size) выборок средних\n",
    "        sample_means.append(np.mean(sample))\n",
    "    return sample_means"
   ]
  },
  {
   "cell_type": "code",
   "execution_count": 3,
   "id": "serial-synthetic",
   "metadata": {},
   "outputs": [],
   "source": [
    "#taxi_mex = pd.read_csv('mex_clean.csv')\n",
    "#sample_means = generate_distribution_sample(taxe_mex['dis_meters'], 100, 50000)\n",
    "#plt.hist(sample_means, bins = 100) #убеждаемся, что распределение нормальное по графику\n",
    "#plt.xlabel('dist in m')"
   ]
  },
  {
   "cell_type": "code",
   "execution_count": 4,
   "id": "connected-manhattan",
   "metadata": {},
   "outputs": [
    {
     "ename": "NameError",
     "evalue": "name 'np' is not defined",
     "output_type": "error",
     "traceback": [
      "\u001b[1;31m---------------------------------------------------------------------------\u001b[0m",
      "\u001b[1;31mNameError\u001b[0m                                 Traceback (most recent call last)",
      "\u001b[1;32m<ipython-input-4-c1bcedcdf78c>\u001b[0m in \u001b[0;36m<module>\u001b[1;34m\u001b[0m\n\u001b[1;32m----> 1\u001b[1;33m \u001b[0mnp\u001b[0m\u001b[1;33m.\u001b[0m\u001b[0msort\u001b[0m\u001b[1;33m(\u001b[0m\u001b[0msample_means\u001b[0m\u001b[1;33m)\u001b[0m\u001b[1;33m\u001b[0m\u001b[1;33m\u001b[0m\u001b[0m\n\u001b[0m\u001b[0;32m      2\u001b[0m \u001b[0mlb\u001b[0m \u001b[1;33m=\u001b[0m \u001b[0mnp\u001b[0m\u001b[1;33m.\u001b[0m\u001b[0mpercentile\u001b[0m\u001b[1;33m(\u001b[0m\u001b[0msample_means\u001b[0m\u001b[1;33m,\u001b[0m \u001b[1;36m2.5\u001b[0m\u001b[1;33m)\u001b[0m\u001b[1;33m\u001b[0m\u001b[1;33m\u001b[0m\u001b[0m\n\u001b[0;32m      3\u001b[0m \u001b[0mub\u001b[0m \u001b[1;33m=\u001b[0m \u001b[0mnp\u001b[0m\u001b[1;33m.\u001b[0m\u001b[0mperncentile\u001b[0m\u001b[1;33m(\u001b[0m\u001b[0msample_means\u001b[0m\u001b[1;33m,\u001b[0m \u001b[1;36m97.5\u001b[0m\u001b[1;33m)\u001b[0m\u001b[1;33m\u001b[0m\u001b[1;33m\u001b[0m\u001b[0m\n\u001b[0;32m      4\u001b[0m \u001b[0mprint\u001b[0m\u001b[1;33m(\u001b[0m\u001b[1;33m(\u001b[0m\u001b[0mlb\u001b[0m\u001b[1;33m,\u001b[0m \u001b[0mub\u001b[0m\u001b[1;33m)\u001b[0m\u001b[1;33m)\u001b[0m \u001b[1;31m#доверительный интервал, основанный на полученной выборке\u001b[0m\u001b[1;33m\u001b[0m\u001b[1;33m\u001b[0m\u001b[0m\n",
      "\u001b[1;31mNameError\u001b[0m: name 'np' is not defined"
     ]
    }
   ],
   "source": [
    "np.sort(sample_means)\n",
    "lb = np.percentile(sample_means, 2.5)\n",
    "ub = np.perncentile(sample_means, 97.5)\n",
    "print((lb, ub)) #доверительный интервал, основанный на полученной выборке"
   ]
  }
 ],
 "metadata": {
  "kernelspec": {
   "display_name": "Python 3",
   "language": "python",
   "name": "python3"
  },
  "language_info": {
   "codemirror_mode": {
    "name": "ipython",
    "version": 3
   },
   "file_extension": ".py",
   "mimetype": "text/x-python",
   "name": "python",
   "nbconvert_exporter": "python",
   "pygments_lexer": "ipython3",
   "version": "3.9.1"
  }
 },
 "nbformat": 4,
 "nbformat_minor": 5
}
