{
 "cells": [
  {
   "cell_type": "code",
   "execution_count": 35,
   "id": "quality-macro",
   "metadata": {},
   "outputs": [],
   "source": [
    "import pandas as pd\n",
    "import numpy as np\n",
    "\n",
    "#df = pd.read_csv('201809-citibike-tripdata.csv')\n",
    "#print(df.head(3))\n",
    "#df.tail()\n",
    "#df.shape\n",
    "#df.columns\n",
    "#df.dtypes\n",
    "#df['tripduration', 'usertype'].head()\n",
    "#df.iloc[-1]\n",
    "#df.iloc[1:4, 2:5]\n",
    "#df.loc[1, 'tripduration']\n",
    "#df.loc[0:4, 'tripduration' : 'usertype']\n",
    "#df[df['tripduration'] < 1000].head()\n",
    "#df.describe(include = [np.object])\n",
    "#df['usertype'].value_counts(normalize = True)\n",
    "#df.corr()\n",
    "#df.to_csv('...')"
   ]
  },
  {
   "cell_type": "code",
   "execution_count": 34,
   "id": "public-execution",
   "metadata": {},
   "outputs": [],
   "source": [
    "#df.groupby('birth year').groups\n",
    "#df.groupby('birth year').first()\n",
    "#type(df.groupby(['birth year'])['tripduration'].mean())\n",
    "#df.groupby(['birth year', 'usertype'])[['tripduration']].mean()\n",
    "#df.groupby(['usertype']).agg({'tripduration' : [min, max], 'birth year' : max})\n",
    "#df.groupby(['usertype']).agg({'tripduration' : [min, max], 'birth year' : lambda x : sum(x)/len(x)})"
   ]
  },
  {
   "cell_type": "code",
   "execution_count": null,
   "id": "pregnant-toyota",
   "metadata": {},
   "outputs": [],
   "source": [
    "#change_usertype = {'Subscriber' : 1, 'Customer' : 2}\n",
    "#df['usertype'].map(change_usertype).head()\n",
    "\n",
    "#df.apply(max)\n",
    "#df['tripduration'].apply(lambda x : x / 60).head()"
   ]
  }
 ],
 "metadata": {
  "kernelspec": {
   "display_name": "Python 3",
   "language": "python",
   "name": "python3"
  },
  "language_info": {
   "codemirror_mode": {
    "name": "ipython",
    "version": 3
   },
   "file_extension": ".py",
   "mimetype": "text/x-python",
   "name": "python",
   "nbconvert_exporter": "python",
   "pygments_lexer": "ipython3",
   "version": "3.9.1"
  }
 },
 "nbformat": 4,
 "nbformat_minor": 5
}
